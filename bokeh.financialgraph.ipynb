{
 "cells": [
  {
   "cell_type": "code",
   "execution_count": 7,
   "metadata": {},
   "outputs": [],
   "source": [
    "from pandas_datareader import data\n",
    "import datetime\n",
    "from bokeh.plotting import figure, show, output_file\n",
    "from bokeh.embed import components\n",
    "from bokeh.resources import CDN \n",
    "\n",
    "start=datetime.datetime(2018,1,1)\n",
    "end=datetime.datetime(2019,1,10)\n",
    "\n",
    "df = data.DataReader(name=\"AMZN\",data_source=\"yahoo\",start=start,end=end)\n",
    "\n",
    "p = figure(x_axis_type='datetime',width = 1000, height = 500,sizing_mode = 'scale_width')\n",
    "p.grid.grid_line_alpha=0.3\n",
    "\n",
    "hours_12 = 12*60*60*1000\n",
    "def inc_dec(c,o):\n",
    "    if c > o:\n",
    "        value = \"inc\"\n",
    "    elif c < o:\n",
    "        value = \"dec\"\n",
    "    else:\n",
    "        value = \"eq\"\n",
    "    return value\n",
    "df[\"Status\"] = [inc_dec(c,o) for c, o in zip(df.Close, df.Open)]\n",
    "df[\"Middle\"] = (df.Open + df.Close)/2\n",
    "df[\"Height\"] = df.Close - df.Open\n",
    "\n",
    "\n",
    "p.segment(df.index, df.High, df.index, df.Low, color = \"black\")\n",
    "\n",
    "p.rect(df.index[df.Status==\"inc\"],df.Middle[df.Status == \"inc\"], hours_12, abs(df.Height[df.Status ==\"inc\"]),fill_color=\"green\", line_color = \"black\")\n",
    "p.rect(df.index[df.Status==\"dec\"],df.Middle[df.Status == \"dec\"], hours_12, abs(df.Height[df.Status ==\"dec\"]),fill_color=\"red\", line_color=\"black\")\n",
    "\n",
    "script1, div1 = components(p)\n",
    "\n",
    "cdn_js = CDN.js_files\n",
    "cdn_css = CDN.css_files\n",
    "\n",
    "show(p)"
   ]
  },
  {
   "cell_type": "code",
   "execution_count": 5,
   "metadata": {},
   "outputs": [],
   "source": [
    "script1, div1 = components(p)"
   ]
  },
  {
   "cell_type": "code",
   "execution_count": 6,
   "metadata": {},
   "outputs": [
    {
     "data": {
      "text/plain": [
       "['https://cdn.pydata.org/bokeh/release/bokeh-1.0.2.min.js',\n",
       " 'https://cdn.pydata.org/bokeh/release/bokeh-widgets-1.0.2.min.js',\n",
       " 'https://cdn.pydata.org/bokeh/release/bokeh-tables-1.0.2.min.js',\n",
       " 'https://cdn.pydata.org/bokeh/release/bokeh-gl-1.0.2.min.js']"
      ]
     },
     "execution_count": 6,
     "metadata": {},
     "output_type": "execute_result"
    }
   ],
   "source": [
    "cdn_js"
   ]
  },
  {
   "cell_type": "code",
   "execution_count": null,
   "metadata": {},
   "outputs": [],
   "source": []
  }
 ],
 "metadata": {
  "kernelspec": {
   "display_name": "Python 3",
   "language": "python",
   "name": "python3"
  },
  "language_info": {
   "codemirror_mode": {
    "name": "ipython",
    "version": 3
   },
   "file_extension": ".py",
   "mimetype": "text/x-python",
   "name": "python",
   "nbconvert_exporter": "python",
   "pygments_lexer": "ipython3",
   "version": "3.7.1"
  }
 },
 "nbformat": 4,
 "nbformat_minor": 2
}
